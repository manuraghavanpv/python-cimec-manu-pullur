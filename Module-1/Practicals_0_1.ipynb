{
  "cells": [
    {
      "cell_type": "markdown",
      "id": "03a44e75",
      "metadata": {
        "id": "03a44e75"
      },
      "source": [
        "# Practicals for lecture 0.1\n",
        "\n",
        "[![Open In Colab](https://colab.research.google.com/assets/colab-badge.svg)](https://colab.research.google.com/github/vigji/python-cimec-2025/blob/main/practicals/Practicals_0.1.ipynb)"
      ]
    },
    {
      "cell_type": "markdown",
      "id": "1a9cd770",
      "metadata": {
        "id": "1a9cd770"
      },
      "source": [
        "## 0.1.0 Strings"
      ]
    },
    {
      "cell_type": "code",
      "execution_count": 2,
      "id": "4fa90744",
      "metadata": {
        "id": "4fa90744",
        "outputId": "a1dcd216-f549-4c70-c0cf-7c0f1d2bcc17",
        "colab": {
          "base_uri": "https://localhost:8080/"
        }
      },
      "outputs": [
        {
          "output_type": "stream",
          "name": "stdout",
          "text": [
            "ChinaChinaChinaChinaChinaChinaChinaChinaChinaChinaChinaChinaChinaChinaChinaChinaChinaChinaChinaChinaChinaChinaChinaChinaChinaChinaChinaChinaChinaChinaChinaChinaChinaChinaChinaChinaChinaChinaChinaChina\n"
          ]
        }
      ],
      "source": [
        "# Create a Trump quote generator (https://www.youtube.com/watch?v=RDrfE9I8_hs)\n",
        "# by repeating 40 times the word \"China\". Start from the existing variable.\n",
        "quote = \"China\"\n",
        "\n",
        "# And use mathematical operators with strings!\n",
        "full_quote = quote*40\n",
        "print(full_quote)\n",
        "\n",
        "# The old quirks of this character make its 2022 persona\n",
        "# look almost endearing compared to the current presidency..."
      ]
    },
    {
      "cell_type": "code",
      "execution_count": 3,
      "id": "9311a294",
      "metadata": {
        "id": "9311a294",
        "outputId": "55bd77b3-74fb-4648-e2c1-a00bb970632e",
        "colab": {
          "base_uri": "https://localhost:8080/"
        }
      },
      "outputs": [
        {
          "output_type": "stream",
          "name": "stdout",
          "text": [
            "China China China China China China China China China China China China China China China China China China China China China China China China China China China China China China China China China China China China China China China China\n"
          ]
        }
      ],
      "source": [
        "# Repeat the above, but incorporate spaces between the repeats\n",
        "# (keep using the variable defined above, and remember math with strings!):\n",
        "\n",
        "full_quote_with_spaces = (quote + \" \")*39 + quote\n",
        "print(full_quote_with_spaces)\n"
      ]
    },
    {
      "cell_type": "code",
      "execution_count": null,
      "id": "7d79d391",
      "metadata": {
        "id": "7d79d391"
      },
      "outputs": [],
      "source": [
        "# Find the length of the final quote (remember, you can use a function for this)"
      ]
    },
    {
      "cell_type": "code",
      "execution_count": 4,
      "id": "3a23458f",
      "metadata": {
        "id": "3a23458f",
        "outputId": "ffd54836-86d5-4e8e-a9ef-f76ad08f5cef",
        "colab": {
          "base_uri": "https://localhost:8080/"
        }
      },
      "outputs": [
        {
          "output_type": "stream",
          "name": "stdout",
          "text": [
            "Let's say: China China China China China China China China China China China China China China China China China China China China China China China China China China China China China China China China China China China China China China China China!\n"
          ]
        }
      ],
      "source": [
        "# To complete the quote, format the result of the above operation\n",
        "# into the following string and print it:\n",
        "\n",
        "incipit = \"Let's say: {}!\"\n",
        "\n",
        "quote_with_incipit = incipit.format(full_quote_with_spaces)\n",
        "\n",
        "print(quote_with_incipit)\n"
      ]
    },
    {
      "cell_type": "code",
      "execution_count": 5,
      "id": "5af7bb1e",
      "metadata": {
        "id": "5af7bb1e",
        "outputId": "4e6b3741-226b-4efc-9022-3361904dd882",
        "colab": {
          "base_uri": "https://localhost:8080/"
        }
      },
      "outputs": [
        {
          "output_type": "stream",
          "name": "stdout",
          "text": [
            "['Betty', 'Botter', 'bought', 'some', 'butter', 'but,', 'said', 'she,', 'the', 'butter’s', 'bitter.', 'If', 'I', 'put', 'it', 'in', 'my', 'batter,', 'it', 'will', 'make', 'my', 'batter', 'bitter.']\n"
          ]
        }
      ],
      "source": [
        "# Split the following text in a list of individual words using the\n",
        "# .split() method.\n",
        "# Assign the result of split() to a word_list variable, and print it.\n",
        "\n",
        "text = \" Betty Botter bought some butter but, said she, the butter’s bitter. If I put it in my batter, it will make my batter bitter.\"\n",
        "\n",
        "word_list = text.split()\n",
        "print(word_list)"
      ]
    },
    {
      "cell_type": "code",
      "execution_count": 7,
      "id": "c93591c3",
      "metadata": {
        "id": "c93591c3",
        "outputId": "5272e521-b97a-4399-8a5f-d9ed929d8f48",
        "colab": {
          "base_uri": "https://localhost:8080/"
        }
      },
      "outputs": [
        {
          "output_type": "stream",
          "name": "stdout",
          "text": [
            "<built-in method upper of str object at 0x7da2394a4ea0>\n"
          ]
        }
      ],
      "source": [
        "# Convert the text to uppercase:\n",
        "uppercase_text = text.upper\n",
        "print(uppercase_text)"
      ]
    },
    {
      "cell_type": "code",
      "execution_count": 9,
      "id": "64ca06dc",
      "metadata": {
        "id": "64ca06dc",
        "outputId": "f3dceb9f-d2fa-4c60-8ceb-f0e3f4cea31e",
        "colab": {
          "base_uri": "https://localhost:8080/"
        }
      },
      "outputs": [
        {
          "output_type": "stream",
          "name": "stdout",
          "text": [
            " et o\n",
            "er bitter.\n"
          ]
        }
      ],
      "source": [
        "# Take one every two characters from the first 10 characters of the text:\n",
        "text_every_two = text[:10:2]\n",
        "\n",
        "# Take the last 10 characters of the text:\n",
        "text_last_ten = text[-10:]\n",
        "\n",
        "print(text_every_two)\n",
        "print(text_last_ten)\n"
      ]
    },
    {
      "cell_type": "code",
      "execution_count": 10,
      "id": "0b1f4c83",
      "metadata": {
        "id": "0b1f4c83",
        "outputId": "16df3c5f-c821-425b-d285-0603800227dc",
        "colab": {
          "base_uri": "https://localhost:8080/"
        }
      },
      "outputs": [
        {
          "output_type": "stream",
          "name": "stdout",
          "text": [
            "True\n"
          ]
        }
      ],
      "source": [
        "# Check if a word is a palindrome:\n",
        "word = \"radar\"\n",
        "\n",
        "is_palindrome = word == word[::-1]\n",
        "print(is_palindrome)"
      ]
    },
    {
      "cell_type": "code",
      "execution_count": 17,
      "id": "fa6635d9",
      "metadata": {
        "id": "fa6635d9",
        "outputId": "bf0c8f35-90e5-46d8-e488-7badb2ada4ed",
        "colab": {
          "base_uri": "https://localhost:8080/"
        }
      },
      "outputs": [
        {
          "output_type": "stream",
          "name": "stdout",
          "text": [
            " \n",
            "Create a password according to the following rules:\n",
            "1. The password must be at least 8 characters long.\n",
            "2. The password must contain at least one uppercase letter.\n",
            "3. The password must contain at least one lowercase letter.\n",
            "4. The password must contain at least one digit.\n",
            "5. The password must contain at least one special character (e.g., !, @, #, $, %, etc.). \n",
            "Enter your password of choice: Manu@2000Mate\n",
            "Your password is strong!\n"
          ]
        }
      ],
      "source": [
        "# [Advanced]: Password Strength Validator\n",
        "\n",
        "# Write a Python program that validates the strength of a password based on the following rules:\n",
        "\n",
        "# The password must be at least 8 characters long.\n",
        "# The password must contain at least one uppercase letter.\n",
        "# The password must contain at least one lowercase letter.\n",
        "# The password must contain at least one digit.\n",
        "# The password must contain at least one special character (e.g., !, @, #, $, %, etc.).\n",
        "# Hint: you can check if a string contains only letters with the `isalpha()` method,\n",
        "# and if it contains only digits with the `isdigit()` method.\n",
        "\n",
        "# The solution does not require loops - but you can use them if you want to!\n",
        "\n",
        "good_password = \"Password123!\"\n",
        "bad_password = \"weak\"\n",
        "bad_password_2 = \"Short1!\"\n",
        "bad_password_3 = \"nouppercase!\"\n",
        "bad_password_4 = \"nodigits!\"\n",
        "\n",
        "...\n",
        "is_good_password = ...\n",
        "\n",
        "import re\n",
        "\n",
        "def validate_password(password):\n",
        "    # Check length\n",
        "    if len(password) < 8:\n",
        "        return False\n",
        "    # Check for uppercase, lowercase, digit, and special character\n",
        "    if not any(c.isupper() for c in password):\n",
        "        return False\n",
        "    if not any(c.islower() for c in password):\n",
        "        return False\n",
        "    if not any(c.isdigit() for c in password):\n",
        "        return False\n",
        "    if not any(c in \"!@#$%^&*()-_+=<>?/[]{}|:;,.~\" for c in password):\n",
        "        return False\n",
        "    return True\n",
        "\n",
        "#Password rules\n",
        "print(\"\"\"\n",
        "Create a password according to the following rules:\n",
        "1. The password must be at least 8 characters long.\n",
        "2. The password must contain at least one uppercase letter.\n",
        "3. The password must contain at least one lowercase letter.\n",
        "4. The password must contain at least one digit.\n",
        "5. The password must contain at least one special character (e.g., !, @, #, $, %, etc.). \"\"\")\n",
        "\n",
        "# User Input\n",
        "password = input(\"Enter your password of choice: \")\n",
        "\n",
        "# Validate the password\n",
        "if validate_password(password):\n",
        "    print(\"Your password is strong!\")\n",
        "else:\n",
        "    print(\"Your password is weak. Please make sure it meets the criteria.\")\n",
        "\n"
      ]
    },
    {
      "cell_type": "markdown",
      "id": "5333bf92",
      "metadata": {
        "id": "5333bf92"
      },
      "source": [
        "## Data containers"
      ]
    },
    {
      "cell_type": "markdown",
      "id": "cefcbc31",
      "metadata": {
        "id": "cefcbc31"
      },
      "source": [
        "#### 0.1.1 Lists"
      ]
    },
    {
      "cell_type": "code",
      "execution_count": 18,
      "id": "d36921d1",
      "metadata": {
        "id": "d36921d1",
        "outputId": "ed3ca7af-c47b-4e9c-a96f-5de67fee5120",
        "colab": {
          "base_uri": "https://localhost:8080/"
        }
      },
      "outputs": [
        {
          "output_type": "stream",
          "name": "stdout",
          "text": [
            "['The', 'brain', 'is', 'a', 'world', 'consisting', 'of', 'a', 'number', 'of', 'unexplored', 'continents', 'and', 'great', 'stretches', 'of', 'unknown', 'territory.']\n"
          ]
        }
      ],
      "source": [
        "# Use the .split() method to create a list of words from this string and assign it to a variable:\n",
        "a_string = \"The brain is a world consisting of a number of unexplored continents and great stretches of unknown territory.\"\n",
        "\n",
        "word_list = a_string.split()\n",
        "print(word_list)"
      ]
    },
    {
      "cell_type": "code",
      "execution_count": 19,
      "id": "1d7c75e2",
      "metadata": {
        "id": "1d7c75e2",
        "outputId": "9c3232aa-70bb-4e8f-da9b-ce6c50ea33dc",
        "colab": {
          "base_uri": "https://localhost:8080/"
        }
      },
      "outputs": [
        {
          "output_type": "stream",
          "name": "stdout",
          "text": [
            "['The', 'is', 'world', 'of', 'number']\n"
          ]
        }
      ],
      "source": [
        "# Using indexing, make a new list named `selected_elements` taking one every two\n",
        "# of the first 10 elements from the `a_string` list:\n",
        "selected_elements = word_list[:10:2]\n",
        "print(selected_elements)"
      ]
    },
    {
      "cell_type": "code",
      "execution_count": null,
      "id": "3751c1c3",
      "metadata": {
        "id": "3751c1c3"
      },
      "outputs": [],
      "source": [
        "# Then, replace the first element of `selected_elements` with a new string of your choice:\n",
        "selected_elements[0] = \"New Element\"\n",
        "print(selected_elements)"
      ]
    },
    {
      "cell_type": "code",
      "execution_count": 20,
      "id": "0b479eb3",
      "metadata": {
        "id": "0b479eb3",
        "outputId": "3240e5c5-ecee-44d1-e530-d65b7d0004cb",
        "colab": {
          "base_uri": "https://localhost:8080/"
        }
      },
      "outputs": [
        {
          "output_type": "stream",
          "name": "stdout",
          "text": [
            "['The', 'is', 'world', 'of', 'number', 'Another Element']\n"
          ]
        }
      ],
      "source": [
        "# Use the .append() method to join one additional string of your choice to `selected_elements`, and\n",
        "# print it again:\n",
        "selected_elements.append(\"Another Element\")\n",
        "print(selected_elements)"
      ]
    },
    {
      "cell_type": "code",
      "execution_count": 21,
      "id": "1e33e3d5",
      "metadata": {
        "id": "1e33e3d5",
        "outputId": "fdc6de5d-e35a-4b15-f779-1be586f78b00",
        "colab": {
          "base_uri": "https://localhost:8080/"
        }
      },
      "outputs": [
        {
          "output_type": "stream",
          "name": "stdout",
          "text": [
            "['The', 'is', 'world', 'of', 'number', 'Another Element', ['The', 'brain', 'is', 'a', 'world', 'consisting', 'of', 'a', 'number', 'of', 'unexplored', 'continents', 'and', 'great', 'stretches', 'of', 'unknown', 'territory.']]\n"
          ]
        }
      ],
      "source": [
        "# What happens if you try to .append() a list of values instead of a single value?\n",
        "# Try to .append() a list of words to the selected_elements:\n",
        "\n",
        "selected_elements.append(word_list)\n",
        "print(selected_elements)"
      ]
    },
    {
      "cell_type": "code",
      "execution_count": 22,
      "id": "5ae095de",
      "metadata": {
        "id": "5ae095de",
        "outputId": "382c28b6-0d30-43a8-cd41-a6089afe7e75",
        "colab": {
          "base_uri": "https://localhost:8080/"
        }
      },
      "outputs": [
        {
          "output_type": "stream",
          "name": "stdout",
          "text": [
            "['The', 'is', 'world', 'of', 'number', 'Another Element', ['The', 'brain', 'is', 'a', 'world', 'consisting', 'of', 'a', 'number', 'of', 'unexplored', 'continents', 'and', 'great', 'stretches', 'of', 'unknown', 'territory.'], 'a', 'b', 'c']\n"
          ]
        }
      ],
      "source": [
        "# This is not what we want to obtain if what we want to do is concatenate lists!\n",
        "# Use the correct operator to concatenate the `to concatenate` list to the `selected_elements` list:\n",
        "to_concatenate = [\"a\", \"b\", \"c\"]\n",
        "selected_elements = selected_elements + to_concatenate\n",
        "print(selected_elements)"
      ]
    },
    {
      "cell_type": "markdown",
      "id": "d44e8874",
      "metadata": {
        "id": "d44e8874"
      },
      "source": [
        "#### 0.1.2 Dictionaries"
      ]
    },
    {
      "cell_type": "code",
      "execution_count": 23,
      "id": "614e9c24",
      "metadata": {
        "id": "614e9c24",
        "outputId": "16ef744a-fe20-40c9-c267-e1b206c324b6",
        "colab": {
          "base_uri": "https://localhost:8080/"
        }
      },
      "outputs": [
        {
          "output_type": "stream",
          "name": "stdout",
          "text": [
            "{'The': 3, 'brain': 5, 'is': 2}\n"
          ]
        }
      ],
      "source": [
        "# From the first three words of the word_list variable, create a dictionary with three entries.\n",
        "\n",
        "# For each entry:\n",
        "#   the keyword will be the word\n",
        "#   the value will be the length of the string (calculate it with `len()`)\n",
        "\n",
        "# (if you know them, you can use for loops)\n",
        "\n",
        "# Create a dictionary from the first three words\n",
        "word_length_dict = {word: len(word) for word in word_list[:3]}\n",
        "\n",
        "print(word_length_dict)"
      ]
    },
    {
      "cell_type": "code",
      "execution_count": 24,
      "id": "55476f44",
      "metadata": {
        "id": "55476f44",
        "outputId": "5d689512-b6fd-4c5c-fe8e-e044546eaf86",
        "colab": {
          "base_uri": "https://localhost:8080/"
        }
      },
      "outputs": [
        {
          "output_type": "stream",
          "name": "stdout",
          "text": [
            "Peppa\n"
          ]
        }
      ],
      "source": [
        "# Retrieve the \"user\" element from the second dictionary of this list in a single operation:\n",
        "\n",
        "user_accesses = [dict(user=\"Gino\", time=\"12.02.2024-12:00:01\"),\n",
        "                 dict(user=\"Peppa\", time=\"04.04.2024-01:04:12\")]\n",
        "\n",
        "second_access_user = user_accesses[1][\"user\"]\n",
        "print(second_access_user)"
      ]
    },
    {
      "cell_type": "markdown",
      "id": "e0c52ebb",
      "metadata": {
        "id": "e0c52ebb"
      },
      "source": [
        "#### 0.1.3 Tuples"
      ]
    },
    {
      "cell_type": "code",
      "execution_count": null,
      "id": "61ae9855",
      "metadata": {
        "id": "61ae9855"
      },
      "outputs": [],
      "source": [
        "# Convert to a tuple the word list `word_list` defined above.\n",
        "word_tuple = tuple(word_list)\n",
        "print(word_tuple)\n",
        "\n",
        "# Can you change the first element of the tuple? Can you try appending new values?  Ans:No\n",
        "word_tuple[0] = \"NewWord\"  # This will raise a TypeError\n",
        "\n",
        "# Can you use the +/* operators? Ans: Yes\n",
        "# Using the + operator to concatenate tuples\n",
        "new_word_tuple = word_tuple + (\"new_word\",)\n",
        "print(new_word_tuple)\n",
        "\n",
        "# Using the * operator to repeat the tuple\n",
        "repeated_tuple = word_tuple * 2\n",
        "print(repeated_tuple)\n",
        "\n"
      ]
    },
    {
      "cell_type": "markdown",
      "id": "c7a1589a",
      "metadata": {
        "id": "c7a1589a"
      },
      "source": [
        "#### 0.1.4 Sets"
      ]
    },
    {
      "cell_type": "code",
      "execution_count": null,
      "id": "f215b3a8",
      "metadata": {
        "id": "f215b3a8"
      },
      "outputs": [],
      "source": [
        "# We want to know if two lists of values contain the same items.\n",
        "\n",
        "items_list1 = [20, 19, 32, 1, 3, 45, 2, 5, 4, 12, 7]\n",
        "items_list2 = [45, 2, 12, 19, 32, 4, 7, 3, 5, 1, 20]\n",
        "\n",
        "# Can we just check if the lists are the same with a `==` operation? If no, why?\n",
        "\n",
        "are_lists_equal = items_list1 == items_list2\n",
        "print(are_lists_equal)\n"
      ]
    },
    {
      "cell_type": "code",
      "execution_count": null,
      "id": "8f249317",
      "metadata": {
        "id": "8f249317"
      },
      "outputs": [],
      "source": [
        "# Try then to convert them to set before performing the comparison:\n",
        "items_set1 = set(items_list1)\n",
        "items_set2 = set(items_list2)\n",
        "\n",
        "are_sets_equal = items_set1 == items_set2\n",
        "print(are_sets_equal)\n"
      ]
    },
    {
      "cell_type": "code",
      "execution_count": 25,
      "id": "885efb60",
      "metadata": {
        "id": "885efb60",
        "outputId": "136d9939-3677-448e-87b7-005f5097908c",
        "colab": {
          "base_uri": "https://localhost:8080/"
        }
      },
      "outputs": [
        {
          "output_type": "stream",
          "name": "stdout",
          "text": [
            "{'Christian'}\n"
          ]
        }
      ],
      "source": [
        "# Use sets operations to find the a place that might fit the preferences of Mark, Melissa and Mattew:\n",
        "mark_top_three = [\"Putipù\", \"Pizzangolo\", \"Christian\"]\n",
        "melissa_top_three = [\"Dogali\", \"Christian\", \"River\"]\n",
        "mattew_top_three = [\"Christian\", \"Putipù\", \"Pizzangolo\"]\n",
        "\n",
        "# Convert lists to sets\n",
        "mark_set = set(mark_top_three)\n",
        "melissa_set = set(melissa_top_three)\n",
        "mattew_set = set(mattew_top_three)\n",
        "\n",
        "# Find common preferences using intersection\n",
        "common_preferences = mark_set & melissa_set & mattew_set\n",
        "\n",
        "print(common_preferences)\n"
      ]
    },
    {
      "cell_type": "code",
      "execution_count": 26,
      "id": "694c734b",
      "metadata": {
        "id": "694c734b",
        "outputId": "1a46d83d-dd69-47bf-a6ee-c2c9e2cc87b2",
        "colab": {
          "base_uri": "https://localhost:8080/"
        }
      },
      "outputs": [
        {
          "output_type": "stream",
          "name": "stdout",
          "text": [
            "True\n"
          ]
        }
      ],
      "source": [
        "# Combine what you know about sets and strings and test if word1 is an anagram of word2:\n",
        "word1 = \"listen\"\n",
        "word2 = \"silent\"\n",
        "\n",
        "# Check if the sorted versions of the words are the same\n",
        "is_anagram = sorted(word1) == sorted(word2)\n",
        "\n",
        "print(is_anagram)\n",
        "\n"
      ]
    },
    {
      "cell_type": "code",
      "execution_count": 27,
      "id": "02b8eeca",
      "metadata": {
        "id": "02b8eeca",
        "outputId": "1592a43c-8538-4748-ca1b-f0d9a2f9b028",
        "colab": {
          "base_uri": "https://localhost:8080/"
        }
      },
      "outputs": [
        {
          "output_type": "stream",
          "name": "stdout",
          "text": [
            "Time to search in list: 0.121410 seconds\n",
            "Time to search in set: 0.000104 seconds\n",
            "Ratio of time (list to set): 1167.96\n"
          ]
        }
      ],
      "source": [
        "# [Advanced] Efficiency of search operations\n",
        "# Let's compare how fast it is to search in lists vs sets!\n",
        "# First, let's create a large list of numbers and convert it to a set\n",
        "import time\n",
        "\n",
        "# Create a large list of random numbers\n",
        "numbers = list(range(10_000_000))  # 10 million numbers\n",
        "number_set = set(numbers)         # convert to set\n",
        "\n",
        "# If you play around changing the number to search, you can maybe understand\n",
        "# why list search is so slow...\n",
        "number_to_search = 9_999_999\n",
        "\n",
        "# Time list search\n",
        "start_time = time.time()\n",
        "number_in_list = number_to_search in numbers  # Search in list\n",
        "list_time = time.time() - start_time  # Calculate the time taken for list search\n",
        "\n",
        "# Time set search\n",
        "start_time = time.time()\n",
        "number_in_set = number_to_search in number_set  # Search in set\n",
        "set_time = time.time() - start_time  # Calculate the time taken for set search\n",
        "\n",
        "\n",
        "# Calculate the ratio of the time it takes to search in a set vs a list\n",
        "search_time_ratio = list_time / set_time\n",
        "\n",
        "# Print the results\n",
        "print(f\"Time to search in list: {list_time:.6f} seconds\")\n",
        "print(f\"Time to search in set: {set_time:.6f} seconds\")\n",
        "print(f\"Ratio of time (list to set): {search_time_ratio:.2f}\")"
      ]
    },
    {
      "cell_type": "code",
      "execution_count": null,
      "id": "e07ed737",
      "metadata": {
        "id": "e07ed737"
      },
      "outputs": [],
      "source": []
    }
  ],
  "metadata": {
    "kernelspec": {
      "display_name": "Python 3 (ipykernel)",
      "language": "python",
      "name": "python3"
    },
    "language_info": {
      "codemirror_mode": {
        "name": "ipython",
        "version": 3
      },
      "file_extension": ".py",
      "mimetype": "text/x-python",
      "name": "python",
      "nbconvert_exporter": "python",
      "pygments_lexer": "ipython3",
      "version": "3.11.6"
    },
    "colab": {
      "provenance": []
    }
  },
  "nbformat": 4,
  "nbformat_minor": 5
}