{
  "nbformat": 4,
  "nbformat_minor": 0,
  "metadata": {
    "colab": {
      "provenance": []
    },
    "kernelspec": {
      "name": "python3",
      "display_name": "Python 3"
    },
    "language_info": {
      "name": "python"
    }
  },
  "cells": [
    {
      "cell_type": "markdown",
      "source": [
        "#**MODULE-0**"
      ],
      "metadata": {
        "id": "tlAQ000Myg86"
      }
    },
    {
      "cell_type": "markdown",
      "source": [
        "##Lecture 0.0"
      ],
      "metadata": {
        "id": "G8kn5kiOyQgY"
      }
    },
    {
      "cell_type": "code",
      "source": [
        "# 0.0.0\n",
        "print(\"\\n0.0.0 - Leap Year Checker\")\n",
        "year_0 = 1900\n",
        "year_1 = 2000\n",
        "year_2 = 2024\n",
        "year_3 = 2025\n",
        "\n",
        "for year in [year_0, year_1, year_2, year_3]:\n",
        "    is_leap_year = (year % 4 == 0) and (year % 100 != 0 or year % 400 == 0)\n",
        "    print(f\"{year} is a leap year: {is_leap_year}\")\n",
        "\n",
        "# 0.0.1\n",
        "print(\"\\n0.0.1 - Temperature Converter\")\n",
        "temp_0 = 32.0\n",
        "temp_1 = 212.0\n",
        "temp_2 = 98.6\n",
        "temp_3 = -40.0\n",
        "\n",
        "for temp in [temp_0, temp_1, temp_2, temp_3]:\n",
        "    temp_in_celsius = int((temp - 32) * 5/9)\n",
        "    is_frozen = temp_in_celsius < 0\n",
        "    is_boiling = temp_in_celsius >= 100\n",
        "    is_liquid = 0 <= temp_in_celsius < 100\n",
        "    print(f\"\\n{temp}°F = {temp_in_celsius}°C\")\n",
        "    print(f\"Frozen: {is_frozen}\")\n",
        "    print(f\"Boiling: {is_boiling}\")\n",
        "    print(f\"Liquid: {is_liquid}\")"
      ],
      "metadata": {
        "id": "mks1_kTfyUS-",
        "colab": {
          "base_uri": "https://localhost:8080/"
        },
        "outputId": "94bd7a36-18fd-42c8-8c5b-e49793a10f02"
      },
      "execution_count": 2,
      "outputs": [
        {
          "output_type": "stream",
          "name": "stdout",
          "text": [
            "\n",
            "0.0.0 - Leap Year Checker\n",
            "1900 is a leap year: False\n",
            "2000 is a leap year: True\n",
            "2024 is a leap year: True\n",
            "2025 is a leap year: False\n",
            "\n",
            "0.0.1 - Temperature Converter\n",
            "\n",
            "32.0°F = 0°C\n",
            "Frozen: False\n",
            "Boiling: False\n",
            "Liquid: True\n",
            "\n",
            "212.0°F = 100°C\n",
            "Frozen: False\n",
            "Boiling: True\n",
            "Liquid: False\n",
            "\n",
            "98.6°F = 37°C\n",
            "Frozen: False\n",
            "Boiling: False\n",
            "Liquid: True\n",
            "\n",
            "-40.0°F = -40°C\n",
            "Frozen: True\n",
            "Boiling: False\n",
            "Liquid: False\n"
          ]
        }
      ]
    },
    {
      "cell_type": "markdown",
      "source": [
        "##Lecture 0.1\n"
      ],
      "metadata": {
        "id": "bSjaEiEGysge"
      }
    },
    {
      "cell_type": "code",
      "source": [
        "# 0.1.0\n",
        "stupid_text = \"Hello, world!\"\n",
        "\n",
        "uppercase_string = stupid_text.upper()\n",
        "even_characters = stupid_text[::2]\n",
        "odd_characters = stupid_text[1::2]\n",
        "concatenated_string = even_characters + \" \" + odd_characters\n",
        "\n",
        "print(f\"Original: {stupid_text}\")\n",
        "print(f\"Uppercase: {uppercase_string}\")\n",
        "print(f\"Even chars: {even_characters}\")\n",
        "print(f\"Odd chars: {odd_characters}\")\n",
        "print(f\"Combined: {concatenated_string}\")\n",
        "\n",
        "# 0.1.1\n",
        "# 1. List - good for ordered collection that needs modification\n",
        "# 2. Dictionary - map student names to addresses\n",
        "# 3. Tuple - immutable pair for coordinates\n",
        "# 4. Set - ensures uniqueness of IPs\n",
        "\n",
        "# 0.1.2\n",
        "list_of_elements = [1, 2, 3, 4, 5]\n",
        "dictionary_of_elements = {\"a\": 1, \"b\": 2, \"c\": 3, \"d\": 4, \"e\": 5}\n",
        "\n",
        "last_element = list_of_elements.pop()\n",
        "dictionary_of_elements[\"new_element\"] = last_element\n",
        "dictionary_of_elements[\"rest_of_the_list\"] = list_of_elements\n",
        "first_of_rest = dictionary_of_elements[\"rest_of_the_list\"][0]\n",
        "\n",
        "print(f\"Modified dictionary: {dictionary_of_elements}\")\n",
        "print(f\"First of rest: {first_of_rest}\")\n"
      ],
      "metadata": {
        "id": "P8XIg3PHyzgZ",
        "colab": {
          "base_uri": "https://localhost:8080/"
        },
        "outputId": "7cdac3cf-50d0-4e92-880e-ed60f8018328"
      },
      "execution_count": 5,
      "outputs": [
        {
          "output_type": "stream",
          "name": "stdout",
          "text": [
            "Original: Hello, world!\n",
            "Uppercase: HELLO, WORLD!\n",
            "Even chars: Hlo ol!\n",
            "Odd chars: el,wrd\n",
            "Combined: Hlo ol! el,wrd\n",
            "Modified dictionary: {'a': 1, 'b': 2, 'c': 3, 'd': 4, 'e': 5, 'new_element': 5, 'rest_of_the_list': [1, 2, 3, 4]}\n",
            "First of rest: 1\n"
          ]
        }
      ]
    },
    {
      "cell_type": "markdown",
      "source": [
        "##Lecture 0.2"
      ],
      "metadata": {
        "id": "WAwU7beSkNea"
      }
    },
    {
      "cell_type": "code",
      "source": [
        "# 0.2.0\n",
        "print(\"\\n0.2.0 - Text Analysis\")\n",
        "text_sample1 = \"\"\"\n",
        "Python is a high-level, general-purpose programming language. Its design philosophy\n",
        "emphasizes code readability with the use of significant indentation. Python is dynamically\n",
        "typed and garbage-collected. It supports multiple programming paradigms, including structured,\n",
        "object-oriented, and functional programming.\n",
        "\"\"\"\n",
        "\n",
        "text_sample2 = \"\"\"\n",
        "Python is widely used in artificial intelligence, data analysis, scientific computing,\n",
        "and web development. Its syntax allows programmers to express concepts in fewer lines\n",
        "of code than would be possible in languages such as C++ or Java. The language provides\n",
        "constructs intended to enable clear programs on both small and large scales.\n",
        "\"\"\"\n",
        "\n",
        "# 1. Clean the texts\n",
        "cleaned_text1 = text_sample1.lower().replace('.', '').replace(',', '')\n",
        "cleaned_text2 = text_sample2.lower().replace('.', '').replace(',', '')\n",
        "\n",
        "# 2. Create sets of unique words\n",
        "unique_words1 = set(cleaned_text1.split())\n",
        "unique_words2 = set(cleaned_text2.split())\n",
        "\n",
        "# 3. Find common words\n",
        "common_words = unique_words1 & unique_words2\n",
        "\n",
        "# 4. Find unique words\n",
        "only_in_text1 = unique_words1 - unique_words2\n",
        "only_in_text2 = unique_words2 - unique_words1\n",
        "\n",
        "# 5. Word frequency dictionary\n",
        "all_words = cleaned_text1.split() + cleaned_text2.split()\n",
        "word_frequency = {}\n",
        "for word in all_words:\n",
        "    word_frequency[word] = word_frequency.get(word, 0) + 1\n",
        "\n",
        "# 6. Top five words\n",
        "top_five_words = sorted(word_frequency.items(), key=lambda x: x[1], reverse=True)[:5]\n",
        "\n",
        "print(\"\\nCommon words:\")\n",
        "print(common_words)\n",
        "print(\"\\nUnique to text1:\")\n",
        "print(only_in_text1)\n",
        "print(\"\\nUnique to text2:\")\n",
        "print(only_in_text2)\n",
        "print(\"\\nTop 5 frequent words:\")\n",
        "print(top_five_words)\n"
      ],
      "metadata": {
        "colab": {
          "base_uri": "https://localhost:8080/"
        },
        "id": "fTKgdM71kfLt",
        "outputId": "4a0c32f1-1a28-4c47-e323-4b95d3b29b72"
      },
      "execution_count": 6,
      "outputs": [
        {
          "output_type": "stream",
          "name": "stdout",
          "text": [
            "\n",
            "0.2.0 - Text Analysis\n",
            "\n",
            "Common words:\n",
            "{'and', 'python', 'code', 'is', 'its', 'of', 'language', 'the'}\n",
            "\n",
            "Unique to text1:\n",
            "{'it', 'indentation', 'structured', 'garbage-collected', 'supports', 'paradigms', 'functional', 'philosophy', 'typed', 'including', 'high-level', 'with', 'emphasizes', 'object-oriented', 'multiple', 'design', 'readability', 'a', 'programming', 'dynamically', 'significant', 'use', 'general-purpose'}\n",
            "\n",
            "Unique to text2:\n",
            "{'c++', 'scientific', 'such', 'as', 'concepts', 'computing', 'scales', 'development', 'possible', 'artificial', 'or', 'programs', 'small', 'data', 'languages', 'lines', 'intelligence', 'to', 'clear', 'be', 'programmers', 'fewer', 'analysis', 'than', 'used', 'web', 'allows', 'on', 'large', 'widely', 'both', 'provides', 'would', 'express', 'enable', 'in', 'java', 'constructs', 'intended', 'syntax'}\n",
            "\n",
            "Top 5 frequent words:\n",
            "[('and', 4), ('python', 3), ('is', 3), ('programming', 3), ('in', 3)]\n"
          ]
        }
      ]
    },
    {
      "cell_type": "markdown",
      "source": [
        "##Lecture 0.3"
      ],
      "metadata": {
        "id": "UJtAmo20kkfk"
      }
    },
    {
      "cell_type": "code",
      "source": [
        "# 0.3.0\n",
        "print(\"\\n0.3.0 - Square List Function\")\n",
        "def square_list(numbers):\n",
        "    return [x**2 for x in numbers]\n",
        "\n",
        "print(\"Checking sums divisible by 3 (will print 'bingo' if found):\")\n",
        "for i in range(0, 100, 10):\n",
        "    nums = list(range(i+1, i+11))\n",
        "    squared = square_list(nums)\n",
        "    if sum(squared) % 3 == 0:\n",
        "        print(f\"bingo for range {nums}\")\n",
        "\n",
        "# 0.3.1\n",
        "print(\"\\n0.3.1 - Netflix Session Generator\")\n",
        "import random\n",
        "\n",
        "def simulate_session(prob_continue=0.9, prob_cliffhanger=0.3, max_episodes=10, cliffhanger_prob=None):\n",
        "    episodes = 1\n",
        "    while episodes < max_episodes:\n",
        "        if random.random() > prob_continue:\n",
        "            break\n",
        "        if cliffhanger_prob is not None and random.random() < cliffhanger_prob:\n",
        "            continue\n",
        "        episodes += 1\n",
        "    return episodes\n",
        "\n",
        "print(\"Simulating 5 viewing sessions:\")\n",
        "for _ in range(5):\n",
        "    print(f\"Watched {simulate_session()} episodes\")"
      ],
      "metadata": {
        "colab": {
          "base_uri": "https://localhost:8080/"
        },
        "id": "D_-1hDZhkmtX",
        "outputId": "020eeeef-488a-4a6f-f46b-09c30f7d95e0"
      },
      "execution_count": 7,
      "outputs": [
        {
          "output_type": "stream",
          "name": "stdout",
          "text": [
            "\n",
            "0.3.0 - Square List Function\n",
            "Checking sums divisible by 3 (will print 'bingo' if found):\n",
            "bingo for range [21, 22, 23, 24, 25, 26, 27, 28, 29, 30]\n",
            "bingo for range [51, 52, 53, 54, 55, 56, 57, 58, 59, 60]\n",
            "bingo for range [81, 82, 83, 84, 85, 86, 87, 88, 89, 90]\n",
            "\n",
            "0.3.1 - Netflix Session Generator\n",
            "Simulating 5 viewing sessions:\n",
            "Watched 10 episodes\n",
            "Watched 6 episodes\n",
            "Watched 10 episodes\n",
            "Watched 10 episodes\n",
            "Watched 2 episodes\n"
          ]
        }
      ]
    },
    {
      "cell_type": "markdown",
      "source": [
        "##Lecture 0.4"
      ],
      "metadata": {
        "id": "Vpa61Aumk6A4"
      }
    },
    {
      "cell_type": "code",
      "source": [
        "# 0.4.0\n",
        "print(\"\\n0.4.0 - Counter Class Exercises\")\n",
        "class Counter:\n",
        "    \"\"\"A simple counter class that can increment and reset.\"\"\"\n",
        "    def __init__(self, start=0, max_value=None):\n",
        "        self._value = start\n",
        "        self._increment_count = 0\n",
        "        self._max_value = max_value\n",
        "\n",
        "    def increment(self, step=1):\n",
        "        \"\"\"Increases counter by step (default 1) and returns new value\"\"\"\n",
        "        self._value += step\n",
        "        self._increment_count += 1\n",
        "        if self._max_value is not None and self._value > self._max_value:\n",
        "            raise ValueError(\"Counter value exceeds maximum value\")\n",
        "        return self._value\n",
        "\n",
        "    def reset(self):\n",
        "        \"\"\"Resets counter to 0 and returns new value\"\"\"\n",
        "        self._value = 0\n",
        "        return self._value\n",
        "\n",
        "    def __str__(self):\n",
        "        return f\"Counter(value={self._value})\"\n",
        "\n",
        "# 1. Create instance and test\n",
        "print(\"\\nBasic counter:\")\n",
        "counter = Counter()\n",
        "print(f\"Initial: {counter}\")\n",
        "for _ in range(3):\n",
        "    counter.increment()\n",
        "    print(f\"After increment: {counter}\")\n",
        "\n",
        "# 2. Increment by 2 until >20\n",
        "print(\"\\nCounting by 2s up to 20:\")\n",
        "counter = Counter()\n",
        "while counter._value <= 20:\n",
        "    counter.increment(2)\n",
        "    print(counter)\n",
        "\n",
        "# 3-5. Limited counter with resets\n",
        "print(\"\\nLimited counter with resets:\")\n",
        "limited_counter = Counter(start=5, max_value=10)\n",
        "for i in range(20):\n",
        "    try:\n",
        "        limited_counter.increment()\n",
        "    except ValueError:\n",
        "        limited_counter.reset()\n",
        "    if limited_counter._increment_count % 5 == 0:\n",
        "        limited_counter.reset()\n",
        "    print(f\"Step {i+1}: {limited_counter}\")\n",
        "\n"
      ],
      "metadata": {
        "colab": {
          "base_uri": "https://localhost:8080/"
        },
        "id": "3hovzUZyk8OM",
        "outputId": "6f4d4278-f5a0-46c4-98ac-5c6fe69aa4ab"
      },
      "execution_count": 8,
      "outputs": [
        {
          "output_type": "stream",
          "name": "stdout",
          "text": [
            "\n",
            "0.4.0 - Counter Class Exercises\n",
            "\n",
            "Basic counter:\n",
            "Initial: Counter(value=0)\n",
            "After increment: Counter(value=1)\n",
            "After increment: Counter(value=2)\n",
            "After increment: Counter(value=3)\n",
            "\n",
            "Counting by 2s up to 20:\n",
            "Counter(value=2)\n",
            "Counter(value=4)\n",
            "Counter(value=6)\n",
            "Counter(value=8)\n",
            "Counter(value=10)\n",
            "Counter(value=12)\n",
            "Counter(value=14)\n",
            "Counter(value=16)\n",
            "Counter(value=18)\n",
            "Counter(value=20)\n",
            "Counter(value=22)\n",
            "\n",
            "Limited counter with resets:\n",
            "Step 1: Counter(value=6)\n",
            "Step 2: Counter(value=7)\n",
            "Step 3: Counter(value=8)\n",
            "Step 4: Counter(value=9)\n",
            "Step 5: Counter(value=0)\n",
            "Step 6: Counter(value=1)\n",
            "Step 7: Counter(value=2)\n",
            "Step 8: Counter(value=3)\n",
            "Step 9: Counter(value=4)\n",
            "Step 10: Counter(value=0)\n",
            "Step 11: Counter(value=1)\n",
            "Step 12: Counter(value=2)\n",
            "Step 13: Counter(value=3)\n",
            "Step 14: Counter(value=4)\n",
            "Step 15: Counter(value=0)\n",
            "Step 16: Counter(value=1)\n",
            "Step 17: Counter(value=2)\n",
            "Step 18: Counter(value=3)\n",
            "Step 19: Counter(value=4)\n",
            "Step 20: Counter(value=0)\n"
          ]
        }
      ]
    },
    {
      "cell_type": "markdown",
      "source": [
        "##Lecture-0.5"
      ],
      "metadata": {
        "id": "mweuvL31k_xb"
      }
    },
    {
      "cell_type": "code",
      "source": [
        "# 0.5.0\n",
        "print(\"\\n0.5.0 - RGBColor Class\")\n",
        "class RGBColor:\n",
        "    def __init__(self, r, g, b):\n",
        "        if not all(0 <= x <= 255 for x in (r, g, b)):\n",
        "            raise ValueError(\"Values must be 0-255\")\n",
        "        self._r = r\n",
        "        self._g = g\n",
        "        self._b = b\n",
        "\n",
        "    @property\n",
        "    def r(self):\n",
        "        return self._r\n",
        "\n",
        "    @property\n",
        "    def g(self):\n",
        "        return self._g\n",
        "\n",
        "    @property\n",
        "    def b(self):\n",
        "        return self._b\n",
        "\n",
        "    @property\n",
        "    def rgb_tuple(self):\n",
        "        return (self._r, self._g, self._b)\n",
        "\n",
        "    def mix_with(self, other_color):\n",
        "        new_r = int((self._r + other_color.r) / 2)\n",
        "        new_g = int((self._g + other_color.g) / 2)\n",
        "        new_b = int((self._b + other_color.b) / 2)\n",
        "        return RGBColor(new_r, new_g, new_b)\n",
        "\n",
        "# Testing\n",
        "print(\"Testing RGBColor class:\")\n",
        "color1 = RGBColor(100, 150, 200)\n",
        "color2 = RGBColor(50, 100, 150)\n",
        "print(f\"Color 1: {color1.rgb_tuple}\")\n",
        "print(f\"Color 2: {color2.rgb_tuple}\")\n",
        "\n",
        "mixed = color1.mix_with(color2)\n",
        "print(f\"Mixed color: {mixed.rgb_tuple}\")"
      ],
      "metadata": {
        "colab": {
          "base_uri": "https://localhost:8080/"
        },
        "id": "RHLu8vn6lCA1",
        "outputId": "492e6188-2161-4b88-ec8c-5dd199858968"
      },
      "execution_count": 10,
      "outputs": [
        {
          "output_type": "stream",
          "name": "stdout",
          "text": [
            "\n",
            "0.5.0 - RGBColor Class\n",
            "Testing RGBColor class:\n",
            "Color 1: (100, 150, 200)\n",
            "Color 2: (50, 100, 150)\n",
            "Mixed color: (75, 125, 175)\n"
          ]
        }
      ]
    }
  ]
}